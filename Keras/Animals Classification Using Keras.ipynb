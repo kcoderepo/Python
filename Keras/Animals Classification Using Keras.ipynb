{
 "cells": [
  {
   "cell_type": "markdown",
   "metadata": {
    "colab_type": "text",
    "id": "_vj9I1XHSsWL"
   },
   "source": [
    "Animals Classification: Dataset consists of images of 10 animals\n",
    "Dataset: https://www.kaggle.com/alessiocorrado99/animals10/downloads/animals10.zip/1"
   ]
  },
  {
   "cell_type": "code",
   "execution_count": 158,
   "metadata": {
    "colab": {
     "base_uri": "https://localhost:8080/",
     "height": 51
    },
    "colab_type": "code",
    "executionInfo": {
     "elapsed": 4893,
     "status": "ok",
     "timestamp": 1565572500837,
     "user": {
      "displayName": "KAVYA BALIHALLIMATTA",
      "photoUrl": "",
      "userId": "11289893027040547227"
     },
     "user_tz": 420
    },
    "id": "nTJ5mZ0OkDHj",
    "outputId": "5c574138-e325-4b09-c86b-1a8eec1bdcb5"
   },
   "outputs": [
    {
     "name": "stdout",
     "output_type": "stream",
     "text": [
      "GPU Available:  True\n",
      "Tensorflow Version:  2.0.0-beta1\n"
     ]
    }
   ],
   "source": [
    "from __future__ import absolute_import, division, print_function, unicode_literals\n",
    "\n",
    "!pip install -q tensorflow-gpu==2.0.0-beta1\n",
    "import tensorflow as tf\n",
    "print(\"GPU Available: \", tf.test.is_gpu_available())\n",
    "\n",
    "print(\"Tensorflow Version: \", tf.__version__)"
   ]
  },
  {
   "cell_type": "code",
   "execution_count": 159,
   "metadata": {
    "colab": {
     "base_uri": "https://localhost:8080/",
     "height": 34
    },
    "colab_type": "code",
    "executionInfo": {
     "elapsed": 3150,
     "status": "ok",
     "timestamp": 1565572500842,
     "user": {
      "displayName": "KAVYA BALIHALLIMATTA",
      "photoUrl": "",
      "userId": "11289893027040547227"
     },
     "user_tz": 420
    },
    "id": "xcxfihVGkbpu",
    "outputId": "2a882e65-1c32-4354-8cdb-506b78495d0d"
   },
   "outputs": [
    {
     "name": "stdout",
     "output_type": "stream",
     "text": [
      "Keras Version:  2.2.4-tf\n"
     ]
    }
   ],
   "source": [
    "print(\"Keras Version: \", tf.keras.__version__)"
   ]
  },
  {
   "cell_type": "code",
   "execution_count": 0,
   "metadata": {
    "colab": {},
    "colab_type": "code",
    "id": "64ui3OGekiLI"
   },
   "outputs": [],
   "source": [
    "import numpy\n",
    "import os\n",
    "import numpy as np\n",
    "import matplotlib.pyplot as plt\n",
    "import pandas as pd\n",
    "from keras.preprocessing.image import ImageDataGenerator\n",
    "from tensorflow.keras import layers\n",
    "from tensorflow.keras import models\n",
    "from tensorflow.keras import optimizers"
   ]
  },
  {
   "cell_type": "code",
   "execution_count": 121,
   "metadata": {
    "colab": {
     "base_uri": "https://localhost:8080/",
     "height": 51
    },
    "colab_type": "code",
    "executionInfo": {
     "elapsed": 15579,
     "status": "ok",
     "timestamp": 1565569497743,
     "user": {
      "displayName": "KAVYA BALIHALLIMATTA",
      "photoUrl": "",
      "userId": "11289893027040547227"
     },
     "user_tz": 420
    },
    "id": "upWcb_oAkqOm",
    "outputId": "d4b306a8-a05a-4ec2-cf41-87fda63636aa"
   },
   "outputs": [
    {
     "name": "stdout",
     "output_type": "stream",
     "text": [
      "Archive:  /content/drive/My Drive/colab/animals10.zip\n",
      "replace raw-img/pecora/OIP-5uive4uTyjqs3IFaPQH4OgHaFi.jpeg? [y]es, [n]o, [A]ll, [N]one, [r]ename: N\n"
     ]
    }
   ],
   "source": [
    "!unzip \"/animals10.zip\""
   ]
  },
  {
   "cell_type": "code",
   "execution_count": 61,
   "metadata": {
    "colab": {
     "base_uri": "https://localhost:8080/",
     "height": 34
    },
    "colab_type": "code",
    "executionInfo": {
     "elapsed": 2602,
     "status": "ok",
     "timestamp": 1565544544265,
     "user": {
      "displayName": "KAVYA BALIHALLIMATTA",
      "photoUrl": "",
      "userId": "11289893027040547227"
     },
     "user_tz": 420
    },
    "id": "ug-U6On3lSut",
    "outputId": "f9a5b32b-4e31-453e-b5b8-00eb73d89b5c"
   },
   "outputs": [
    {
     "name": "stdout",
     "output_type": "stream",
     "text": [
      "mkdir: cannot create directory ‘animals_dataset’: File exists\n"
     ]
    }
   ],
   "source": [
    "mkdir animals_dataset"
   ]
  },
  {
   "cell_type": "code",
   "execution_count": 11,
   "metadata": {
    "colab": {
     "base_uri": "https://localhost:8080/",
     "height": 34
    },
    "colab_type": "code",
    "executionInfo": {
     "elapsed": 1626,
     "status": "ok",
     "timestamp": 1565457205085,
     "user": {
      "displayName": "KAVYA BALIHALLIMATTA",
      "photoUrl": "",
      "userId": "11289893027040547227"
     },
     "user_tz": 420
    },
    "id": "1FE1L2PdgJa-",
    "outputId": "dcdf11d1-c138-4fbc-c1ea-a895d081b245"
   },
   "outputs": [
    {
     "name": "stdout",
     "output_type": "stream",
     "text": [
      "/content\n"
     ]
    }
   ],
   "source": [
    "cd /content"
   ]
  },
  {
   "cell_type": "code",
   "execution_count": 122,
   "metadata": {
    "colab": {
     "base_uri": "https://localhost:8080/",
     "height": 51
    },
    "colab_type": "code",
    "executionInfo": {
     "elapsed": 858,
     "status": "ok",
     "timestamp": 1565569506494,
     "user": {
      "displayName": "KAVYA BALIHALLIMATTA",
      "photoUrl": "",
      "userId": "11289893027040547227"
     },
     "user_tz": 420
    },
    "id": "ro8U_In4oFLv",
    "outputId": "d586bcc9-a55b-45cd-a796-080ab1bebeff"
   },
   "outputs": [
    {
     "name": "stdout",
     "output_type": "stream",
     "text": [
      "Image batch shape:  (50, 256, 256, 3)\n",
      "Label batch shape:  (50, 10)\n"
     ]
    }
   ],
   "source": [
    "image_batch_train, label_batch_train = next(iter(train_generator))\n",
    "print(\"Image batch shape: \", image_batch_train.shape)\n",
    "print(\"Label batch shape: \", label_batch_train.shape)"
   ]
  },
  {
   "cell_type": "code",
   "execution_count": 123,
   "metadata": {
    "colab": {
     "base_uri": "https://localhost:8080/",
     "height": 213
    },
    "colab_type": "code",
    "executionInfo": {
     "elapsed": 1142,
     "status": "ok",
     "timestamp": 1565569514326,
     "user": {
      "displayName": "KAVYA BALIHALLIMATTA",
      "photoUrl": "",
      "userId": "11289893027040547227"
     },
     "user_tz": 420
    },
    "id": "veYnBSRullUE",
    "outputId": "64c29d2f-6d0d-48df-d97a-55edee40482c"
   },
   "outputs": [
    {
     "data": {
      "image/png": "[encoded data removed]",
      "text/plain": [
       "<PIL.Image.Image image mode=RGB size=300x179 at 0x7FA8253F1668>"
      ]
     },
     "metadata": {
      "tags": []
     },
     "output_type": "display_data"
    },
    {
     "name": "stdout",
     "output_type": "stream",
     "text": [
      "300 179\n"
     ]
    }
   ],
   "source": [
    "from google.colab.patches import cv2_imshow\n",
    "import cv2\n",
    "img = cv2.imread('/content/animals_dataset/squirrel/OIF-T8WZ6u8BZLYF85W3fCTC1w.jpeg', cv2.IMREAD_UNCHANGED)\n",
    "cv2_imshow(img)\n",
    "height = np.size(img, 0)\n",
    "width = np.size(img, 1)\n",
    "print(width,height)"
   ]
  },
  {
   "cell_type": "code",
   "execution_count": 124,
   "metadata": {
    "colab": {
     "base_uri": "https://localhost:8080/",
     "height": 51
    },
    "colab_type": "code",
    "executionInfo": {
     "elapsed": 2518,
     "status": "ok",
     "timestamp": 1565569520114,
     "user": {
      "displayName": "KAVYA BALIHALLIMATTA",
      "photoUrl": "",
      "userId": "11289893027040547227"
     },
     "user_tz": 420
    },
    "id": "EA_Zq-Senqt5",
    "outputId": "bac107da-a487-41c3-f8d5-6ace40eeef85"
   },
   "outputs": [
    {
     "name": "stdout",
     "output_type": "stream",
     "text": [
      "Found 43677 images belonging to 10 classes.\n",
      "Found 10914 images belonging to 10 classes.\n"
     ]
    }
   ],
   "source": [
    "IMAGE_SIZE = 256\n",
    "BATCH_SIZE = 50\n",
    "\n",
    "datagen = tf.keras.preprocessing.image.ImageDataGenerator(\n",
    "    rescale=1./255, \n",
    "    validation_split=0.2)\n",
    "\n",
    "test_datagen = ImageDataGenerator(rescale=1./255)\n",
    "\n",
    "train_generator = datagen.flow_from_directory(\n",
    "    '/content/animals_dataset',\n",
    "    target_size=(IMAGE_SIZE, IMAGE_SIZE),\n",
    "    batch_size=BATCH_SIZE, \n",
    "    subset='training')\n",
    "\n",
    "val_generator = datagen.flow_from_directory(\n",
    "    '/content/animals_dataset',\n",
    "    target_size=(IMAGE_SIZE, IMAGE_SIZE),\n",
    "    batch_size=BATCH_SIZE, \n",
    "    subset='validation')"
   ]
  },
  {
   "cell_type": "code",
   "execution_count": 125,
   "metadata": {
    "colab": {
     "base_uri": "https://localhost:8080/",
     "height": 34
    },
    "colab_type": "code",
    "executionInfo": {
     "elapsed": 867,
     "status": "ok",
     "timestamp": 1565569523661,
     "user": {
      "displayName": "KAVYA BALIHALLIMATTA",
      "photoUrl": "",
      "userId": "11289893027040547227"
     },
     "user_tz": 420
    },
    "id": "0dH7FfTkiD_e",
    "outputId": "4dab360e-520b-4789-8b10-53d4d74db92c"
   },
   "outputs": [
    {
     "name": "stdout",
     "output_type": "stream",
     "text": [
      "{'Hen': 0, 'butterfly': 1, 'cat': 2, 'cow': 3, 'dog': 4, 'elephant': 5, 'horse': 6, 'sheep': 7, 'spider': 8, 'squirrel': 9}\n"
     ]
    }
   ],
   "source": [
    "print (train_generator.class_indices)"
   ]
  },
  {
   "cell_type": "code",
   "execution_count": 0,
   "metadata": {
    "colab": {},
    "colab_type": "code",
    "id": "eVQuVpRXiHxe"
   },
   "outputs": [],
   "source": [
    "# Learn about dataset labels\n",
    "labels = '\\n'.join(sorted(train_generator.class_indices.keys()))\n",
    "\n",
    "with open('animal_labels.txt', 'w') as f:\n",
    "  f.write(labels)"
   ]
  },
  {
   "cell_type": "code",
   "execution_count": 0,
   "metadata": {
    "colab": {},
    "colab_type": "code",
    "id": "KL3z7_laoyHM"
   },
   "outputs": [],
   "source": [
    "model = models.Sequential()\n",
    "model.add(layers.Conv2D(32, (3, 3), activation='relu', input_shape=(IMAGE_SIZE, IMAGE_SIZE, 3)))\n",
    "model.add(layers.MaxPooling2D((2, 2)))\n",
    "model.add(layers.Conv2D(64, (3, 3), activation='relu'))\n",
    "model.add(layers.MaxPooling2D((2, 2)))\n",
    "model.add(layers.Conv2D(128, (3, 3), activation='relu'))\n",
    "model.add(layers.MaxPooling2D((2, 2)))\n",
    "model.add(layers.Conv2D(256, (3, 3), activation='relu'))\n",
    "model.add(layers.MaxPooling2D((2, 2)))\n",
    "model.add(layers.Conv2D(512, (3, 3), activation='relu'))\n",
    "model.add(layers.MaxPooling2D((2, 2)))\n",
    "model.add(layers.Flatten())\n",
    "model.add(layers.Dense(512, activation='relu'))\n",
    "model.add(layers.Dense(train_generator.num_classes, activation='softmax'))\n",
    "\n",
    "model.compile(loss='mse',optimizer='adam',metrics=['acc'])\n",
    "\n",
    "#model.compile(loss='categorical_crossentropy',optimizer=optimizers.RMSprop(lr=1e-4),metrics=['acc'])"
   ]
  },
  {
   "cell_type": "code",
   "execution_count": 165,
   "metadata": {
    "colab": {
     "base_uri": "https://localhost:8080/",
     "height": 493
    },
    "colab_type": "code",
    "executionInfo": {
     "elapsed": 399994,
     "status": "ok",
     "timestamp": 1565573264652,
     "user": {
      "displayName": "KAVYA BALIHALLIMATTA",
      "photoUrl": "",
      "userId": "11289893027040547227"
     },
     "user_tz": 420
    },
    "id": "Tkkzroigpd_G",
    "outputId": "cd11f961-8713-4453-cb8e-859066d09275"
   },
   "outputs": [
    {
     "name": "stdout",
     "output_type": "stream",
     "text": [
      "Epoch 1/14\n",
      "100/100 [==============================] - 30s 298ms/step - loss: 0.0542 - acc: 0.5988 - val_loss: 0.0536 - val_acc: 0.5996\n",
      "Epoch 2/14\n",
      "100/100 [==============================] - 28s 283ms/step - loss: 0.0515 - acc: 0.6164 - val_loss: 0.0489 - val_acc: 0.6504\n",
      "Epoch 3/14\n",
      "100/100 [==============================] - 28s 282ms/step - loss: 0.0505 - acc: 0.6192 - val_loss: 0.0478 - val_acc: 0.6460\n",
      "Epoch 4/14\n",
      "100/100 [==============================] - 28s 278ms/step - loss: 0.0496 - acc: 0.6326 - val_loss: 0.0475 - val_acc: 0.6620\n",
      "Epoch 5/14\n",
      "100/100 [==============================] - 29s 289ms/step - loss: 0.0483 - acc: 0.6452 - val_loss: 0.0450 - val_acc: 0.6736\n",
      "Epoch 6/14\n",
      "100/100 [==============================] - 28s 280ms/step - loss: 0.0458 - acc: 0.6610 - val_loss: 0.0424 - val_acc: 0.6916\n",
      "Epoch 7/14\n",
      "100/100 [==============================] - 29s 288ms/step - loss: 0.0456 - acc: 0.6610 - val_loss: 0.0427 - val_acc: 0.6892\n",
      "Epoch 8/14\n",
      "100/100 [==============================] - 29s 286ms/step - loss: 0.0441 - acc: 0.6712 - val_loss: 0.0403 - val_acc: 0.7124\n",
      "Epoch 9/14\n",
      "100/100 [==============================] - 28s 278ms/step - loss: 0.0413 - acc: 0.6970 - val_loss: 0.0404 - val_acc: 0.7060\n",
      "Epoch 10/14\n",
      "100/100 [==============================] - 28s 279ms/step - loss: 0.0366 - acc: 0.7394 - val_loss: 0.0407 - val_acc: 0.7084\n",
      "Epoch 11/14\n",
      "100/100 [==============================] - 29s 289ms/step - loss: 0.0369 - acc: 0.7340 - val_loss: 0.0364 - val_acc: 0.7376\n",
      "Epoch 12/14\n",
      "100/100 [==============================] - 29s 290ms/step - loss: 0.0354 - acc: 0.7462 - val_loss: 0.0362 - val_acc: 0.7380\n",
      "Epoch 13/14\n",
      "100/100 [==============================] - 29s 285ms/step - loss: 0.0367 - acc: 0.7336 - val_loss: 0.0383 - val_acc: 0.7204\n",
      "Epoch 14/14\n",
      "100/100 [==============================] - 28s 283ms/step - loss: 0.0353 - acc: 0.7498 - val_loss: 0.0353 - val_acc: 0.7488\n"
     ]
    }
   ],
   "source": [
    "history = model.fit_generator(\n",
    "      train_generator,\n",
    "      steps_per_epoch=250,\n",
    "      epochs=14,\n",
    "      validation_data=val_generator,\n",
    "      validation_steps=50)"
   ]
  },
  {
   "cell_type": "code",
   "execution_count": 166,
   "metadata": {
    "colab": {
     "base_uri": "https://localhost:8080/",
     "height": 595
    },
    "colab_type": "code",
    "executionInfo": {
     "elapsed": 918,
     "status": "ok",
     "timestamp": 1565573273621,
     "user": {
      "displayName": "KAVYA BALIHALLIMATTA",
      "photoUrl": "",
      "userId": "11289893027040547227"
     },
     "user_tz": 420
    },
    "id": "H8Sor-U1SJ_Q",
    "outputId": "494f9888-5af2-4440-d688-258543a86f51"
   },
   "outputs": [
    {
     "name": "stdout",
     "output_type": "stream",
     "text": [
      "Model: \"sequential_9\"\n",
      "_________________________________________________________________\n",
      "Layer (type)                 Output Shape              Param #   \n",
      "=================================================================\n",
      "conv2d_44 (Conv2D)           (None, 254, 254, 32)      896       \n",
      "_________________________________________________________________\n",
      "max_pooling2d_44 (MaxPooling (None, 127, 127, 32)      0         \n",
      "_________________________________________________________________\n",
      "conv2d_45 (Conv2D)           (None, 125, 125, 64)      18496     \n",
      "_________________________________________________________________\n",
      "max_pooling2d_45 (MaxPooling (None, 62, 62, 64)        0         \n",
      "_________________________________________________________________\n",
      "conv2d_46 (Conv2D)           (None, 60, 60, 128)       73856     \n",
      "_________________________________________________________________\n",
      "max_pooling2d_46 (MaxPooling (None, 30, 30, 128)       0         \n",
      "_________________________________________________________________\n",
      "conv2d_47 (Conv2D)           (None, 28, 28, 256)       295168    \n",
      "_________________________________________________________________\n",
      "max_pooling2d_47 (MaxPooling (None, 14, 14, 256)       0         \n",
      "_________________________________________________________________\n",
      "conv2d_48 (Conv2D)           (None, 12, 12, 512)       1180160   \n",
      "_________________________________________________________________\n",
      "max_pooling2d_48 (MaxPooling (None, 6, 6, 512)         0         \n",
      "_________________________________________________________________\n",
      "flatten_9 (Flatten)          (None, 18432)             0         \n",
      "_________________________________________________________________\n",
      "dense_18 (Dense)             (None, 512)               9437696   \n",
      "_________________________________________________________________\n",
      "dense_19 (Dense)             (None, 10)                5130      \n",
      "=================================================================\n",
      "Total params: 11,011,402\n",
      "Trainable params: 11,011,402\n",
      "Non-trainable params: 0\n",
      "_________________________________________________________________\n"
     ]
    }
   ],
   "source": [
    "model.summary()"
   ]
  },
  {
   "cell_type": "code",
   "execution_count": 167,
   "metadata": {
    "colab": {
     "base_uri": "https://localhost:8080/",
     "height": 969
    },
    "colab_type": "code",
    "executionInfo": {
     "elapsed": 925,
     "status": "ok",
     "timestamp": 1565573278877,
     "user": {
      "displayName": "KAVYA BALIHALLIMATTA",
      "photoUrl": "",
      "userId": "11289893027040547227"
     },
     "user_tz": 420
    },
    "id": "dyvqCvZJvU3n",
    "outputId": "16172678-2b91-4556-8033-8678fdc18eda"
   },
   "outputs": [
    {
     "data": {
      "text/plain": [
       "{'acc': [0.5987543,\n",
       "  0.6164,\n",
       "  0.6192,\n",
       "  0.6326,\n",
       "  0.6452,\n",
       "  0.661,\n",
       "  0.661,\n",
       "  0.6712,\n",
       "  0.697,\n",
       "  0.7394,\n",
       "  0.734,\n",
       "  0.7462,\n",
       "  0.7336,\n",
       "  0.7498],\n",
       " 'loss': [0.054257950221010785,\n",
       "  0.051496584601700306,\n",
       "  0.050501842759549616,\n",
       "  0.049570421874523166,\n",
       "  0.04826187441125512,\n",
       "  0.045759950075298546,\n",
       "  0.04556019419804216,\n",
       "  0.044082910474389794,\n",
       "  0.041341246869415045,\n",
       "  0.03657672576606274,\n",
       "  0.03693841787055135,\n",
       "  0.03544472299516201,\n",
       "  0.036728960480540994,\n",
       "  0.03534784737974405],\n",
       " 'val_acc': [0.5996,\n",
       "  0.6504,\n",
       "  0.646,\n",
       "  0.662,\n",
       "  0.6736,\n",
       "  0.6916,\n",
       "  0.6892,\n",
       "  0.7124,\n",
       "  0.706,\n",
       "  0.7084,\n",
       "  0.7376,\n",
       "  0.738,\n",
       "  0.7204,\n",
       "  0.7488],\n",
       " 'val_loss': [0.0536031586676836,\n",
       "  0.04894925497472286,\n",
       "  0.047760767191648484,\n",
       "  0.04753685921430588,\n",
       "  0.04503592424094677,\n",
       "  0.04239382591098547,\n",
       "  0.04270278371870518,\n",
       "  0.040275349393486974,\n",
       "  0.04042967598885298,\n",
       "  0.04069515507668257,\n",
       "  0.03644570037722587,\n",
       "  0.03617439348250628,\n",
       "  0.038304036371409896,\n",
       "  0.03529128942638635]}"
      ]
     },
     "execution_count": 167,
     "metadata": {
      "tags": []
     },
     "output_type": "execute_result"
    }
   ],
   "source": [
    "history.history"
   ]
  },
  {
   "cell_type": "code",
   "execution_count": 168,
   "metadata": {
    "colab": {
     "base_uri": "https://localhost:8080/",
     "height": 513
    },
    "colab_type": "code",
    "executionInfo": {
     "elapsed": 1393,
     "status": "ok",
     "timestamp": 1565573285643,
     "user": {
      "displayName": "KAVYA BALIHALLIMATTA",
      "photoUrl": "",
      "userId": "11289893027040547227"
     },
     "user_tz": 420
    },
    "id": "AUljgVUZvcEu",
    "outputId": "b8a09537-1281-41c4-f909-1a8a9a079466"
   },
   "outputs": [
    {
     "data": {
      "image/png": "[encoded data removed]",
      "text/plain": [
       "<Figure size 576x576 with 2 Axes>"
      ]
     },
     "metadata": {
      "tags": []
     },
     "output_type": "display_data"
    }
   ],
   "source": [
    "acc = history.history['acc']\n",
    "val_acc = history.history['val_acc']\n",
    "\n",
    "loss = history.history['loss']\n",
    "val_loss = history.history['val_loss']\n",
    "\n",
    "plt.figure(figsize=(8, 8))\n",
    "plt.subplot(2, 1, 1)\n",
    "plt.plot(acc, label='Training Accuracy')\n",
    "plt.plot(val_acc, label='Validation Accuracy')\n",
    "plt.legend(loc='lower right')\n",
    "plt.ylabel('Accuracy')\n",
    "plt.ylim([min(plt.ylim()),1])\n",
    "plt.title('Training and Validation Accuracy')\n",
    "\n",
    "plt.subplot(2, 1, 2)\n",
    "plt.plot(loss, label='Training Loss')\n",
    "plt.plot(val_loss, label='Validation Loss')\n",
    "plt.legend(loc='upper right')\n",
    "plt.ylabel('Cross Entropy')\n",
    "plt.ylim([0,2.0])\n",
    "plt.title('Training and Validation Loss')\n",
    "plt.xlabel('epoch')\n",
    "plt.show()"
   ]
  },
  {
   "cell_type": "code",
   "execution_count": 0,
   "metadata": {
    "colab": {},
    "colab_type": "code",
    "id": "4WRW1KiCzO8j"
   },
   "outputs": [],
   "source": [
    "model.save('animals_modelfinal1.h5')"
   ]
  },
  {
   "cell_type": "code",
   "execution_count": 170,
   "metadata": {
    "colab": {
     "base_uri": "https://localhost:8080/",
     "height": 51
    },
    "colab_type": "code",
    "executionInfo": {
     "elapsed": 979,
     "status": "ok",
     "timestamp": 1565573330786,
     "user": {
      "displayName": "KAVYA BALIHALLIMATTA",
      "photoUrl": "",
      "userId": "11289893027040547227"
     },
     "user_tz": 420
    },
    "id": "QR9a15Tu4snf",
    "outputId": "44139c28-ffcf-4f32-9cc7-56bba1e58c17"
   },
   "outputs": [
    {
     "name": "stdout",
     "output_type": "stream",
     "text": [
      "{'Hen': 0, 'butterfly': 1, 'cat': 2, 'cow': 3, 'dog': 4, 'elephant': 5, 'horse': 6, 'sheep': 7, 'spider': 8, 'squirrel': 9}\n",
      "256\n"
     ]
    }
   ],
   "source": [
    "defined_classes = train_generator.class_indices\n",
    "print(defined_classes)\n",
    "\n",
    "print(IMAGE_SIZE)"
   ]
  },
  {
   "cell_type": "code",
   "execution_count": 172,
   "metadata": {
    "colab": {
     "base_uri": "https://localhost:8080/",
     "height": 51
    },
    "colab_type": "code",
    "executionInfo": {
     "elapsed": 2158,
     "status": "ok",
     "timestamp": 1565573340725,
     "user": {
      "displayName": "KAVYA BALIHALLIMATTA",
      "photoUrl": "",
      "userId": "11289893027040547227"
     },
     "user_tz": 420
    },
    "id": "xvMQNOpv0hvJ",
    "outputId": "f46c2abf-7544-40d8-b259-9863db55bc76"
   },
   "outputs": [
    {
     "name": "stdout",
     "output_type": "stream",
     "text": [
      "[9 1 1]\n",
      "[9 1 1]\n"
     ]
    }
   ],
   "source": [
    "from tensorflow.keras.models import load_model\n",
    "from tensorflow.keras.preprocessing import image\n",
    "\n",
    "# dimensions of our images\n",
    "img_width, img_height = 256, 256\n",
    "\n",
    "# load the model we saved\n",
    "model = load_model('animals_modelfinal.h5')\n",
    "model.compile(loss='mse',optimizer='adam',metrics=['acc'])\n",
    "# predicting images\n",
    "img = image.load_img('/content/h2.jpg', target_size=(img_width, img_height))\n",
    "x = image.img_to_array(img)\n",
    "x = np.expand_dims(x, axis=0)\n",
    "\n",
    "images = np.vstack([x])\n",
    "classes = model.predict_classes(images, batch_size=10)\n",
    "\n",
    "# predicting multiple images at once\n",
    "img = image.load_img('/content/h1.jpg', target_size=(img_width, img_height))\n",
    "y = image.img_to_array(img)\n",
    "y = np.expand_dims(y, axis=0)\n",
    "\n",
    "img = image.load_img('/content/b1.jpg', target_size=(img_width, img_height))\n",
    "z = image.img_to_array(img)\n",
    "z = np.expand_dims(z, axis=0)\n",
    "\n",
    "# pass the list of multiple images np.vstack()\n",
    "images = np.vstack([x, y, z])\n",
    "classes = model.predict_classes(images, batch_size=10)\n",
    "print(classes)\n",
    "\n",
    "\n",
    "print(classes)"
   ]
  },
  {
   "cell_type": "code",
   "execution_count": 0,
   "metadata": {
    "colab": {},
    "colab_type": "code",
    "id": "tDBYupPc5jSH"
   },
   "outputs": [],
   "source": [
    "defined_classes.get('1')"
   ]
  }
 ],
 "metadata": {
  "accelerator": "GPU",
  "colab": {
   "collapsed_sections": [],
   "name": "Animals Classification.ipynb",
   "provenance": [],
   "version": "0.3.2"
  },
  "kernelspec": {
   "display_name": "Python 3",
   "language": "python",
   "name": "python3"
  },
  "language_info": {
   "codemirror_mode": {
    "name": "ipython",
    "version": 3
   },
   "file_extension": ".py",
   "mimetype": "text/x-python",
   "name": "python",
   "nbconvert_exporter": "python",
   "pygments_lexer": "ipython3",
   "version": "3.7.3"
  }
 },
 "nbformat": 4,
 "nbformat_minor": 1
}
