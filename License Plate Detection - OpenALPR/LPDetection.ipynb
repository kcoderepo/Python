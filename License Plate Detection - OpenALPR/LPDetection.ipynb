{
 "cells": [
  {
   "cell_type": "code",
   "execution_count": null,
   "metadata": {},
   "outputs": [],
   "source": [
    "#import boto.ec2 as boto3\n",
    "from openalpr import Alpr\n",
    "import sys\n",
    "import cv2 as cv2\n",
    "import matplotlib.pyplot as plt\n",
    "import time"
   ]
  },
  {
   "cell_type": "code",
   "execution_count": null,
   "metadata": {},
   "outputs": [],
   "source": [
    "import boto3"
   ]
  },
  {
   "cell_type": "code",
   "execution_count": null,
   "metadata": {},
   "outputs": [],
   "source": [
    "config = \"/home/openalpr/src/build/config/openalpr.conf\"\n",
    "runtimedata_path = \"/home/openalpr/runtime_data\""
   ]
  },
  {
   "cell_type": "code",
   "execution_count": null,
   "metadata": {},
   "outputs": [],
   "source": [
    "alpr = Alpr(\"us\", config, runtimedata_path)"
   ]
  },
  {
   "cell_type": "code",
   "execution_count": null,
   "metadata": {},
   "outputs": [],
   "source": [
    "if not alpr.is_loaded():\n",
    "    print(\"Error loading OpenALPR\")\n",
    "    sys.exit(1)"
   ]
  },
  {
   "cell_type": "code",
   "execution_count": null,
   "metadata": {},
   "outputs": [],
   "source": [
    "alpr.set_top_n(1)"
   ]
  },
  {
   "cell_type": "code",
   "execution_count": null,
   "metadata": {},
   "outputs": [],
   "source": [
    "def show(image):\n",
    "    plt.figure(figsize=(5, 5))\n",
    "    plt.imshow(image)\n",
    "    plt.show()"
   ]
  },
  {
   "cell_type": "code",
   "execution_count": null,
   "metadata": {},
   "outputs": [],
   "source": [
    "import json\n",
    "class DecimalEncoder(json.JSONEncoder):\n",
    "    def default(self, o):\n",
    "        if isinstance(o, decimal.Decimal):\n",
    "            if o % 1 > 0:\n",
    "                return float(o)\n",
    "            else:\n",
    "                return int(o)"
   ]
  },
  {
   "cell_type": "code",
   "execution_count": null,
   "metadata": {},
   "outputs": [],
   "source": [
    "def InsertLiscencePlateDB(platenumber,EntryTime):\n",
    "    #print(platenumber,time)\n",
    "    dynamodb = boto3.resource('dynamodb')\n",
    "    table = dynamodb.Table('LicensePlate')\n",
    "    response = table.put_item(\n",
    "       Item={\n",
    "            'Licenseplate': platenumber,\n",
    "            'EntryTime': EntryTime\n",
    "        }\n",
    "    )\n",
    "    #print(\"PutItem succeeded:\")\n",
    "   # print(json.dumps(response, indent=4, cls=DecimalEncoder))"
   ]
  },
  {
   "cell_type": "code",
   "execution_count": null,
   "metadata": {},
   "outputs": [],
   "source": [
    "def UpdateLiscencePlateEntryDB(platenumber,entrytime):\n",
    "    #print(platenumber,time)\n",
    "    dynamodb = boto3.resource('dynamodb')\n",
    "    table = dynamodb.Table('LicensePlate')\n",
    "    table.update_item(\n",
    "    Key={\n",
    "        'Licenseplate': platenumber\n",
    "    },\n",
    "    UpdateExpression='SET EntryTime = :val1',\n",
    "    ExpressionAttributeValues={\n",
    "        ':val1': entrytime\n",
    "    }\n",
    "    )"
   ]
  },
  {
   "cell_type": "code",
   "execution_count": null,
   "metadata": {},
   "outputs": [],
   "source": [
    "def UpdateLiscencePlateExitDB(platenumber,exittime):\n",
    "    #print(platenumber,time)\n",
    "    #exit_time = time.strftime(\"%m-%d-%Y %H:%M:%S\")\n",
    "    dynamodb = boto3.resource('dynamodb')\n",
    "    table = dynamodb.Table('LicensePlate')\n",
    "    table.update_item(\n",
    "    Key={\n",
    "       'Licenseplate': platenumber\n",
    "    },\n",
    "    UpdateExpression='SET ExitTime = :val1',\n",
    "    ExpressionAttributeValues={\n",
    "        ':val1': exittime\n",
    "    }\n",
    ")"
   ]
  },
  {
   "cell_type": "code",
   "execution_count": null,
   "metadata": {},
   "outputs": [],
   "source": [
    "#Licence Plate Detection for car entry video\n",
    "VIDEO_SOURCE = \"CarEntryH2.MOV\"\n",
    "frameskip=5\n",
    "stream = cv2.VideoCapture(VIDEO_SOURCE)\n",
    "count = 0\n",
    "plates =[]\n",
    "confidence ={}\n",
    "while stream.isOpened():\n",
    "    success,image= stream.read()\n",
    "    if not success:\n",
    "        print(\"video done\")\n",
    "        break\n",
    "    if count==0:\n",
    "        numFrameToSave = 30\n",
    "    else:\n",
    "        numFrameToSave = count*30\n",
    "        \n",
    "    #print('Position:', int(stream.get(cv2.CAP_PROP_POS_FRAMES)))\n",
    "    stream.set(cv2.CAP_PROP_POS_FRAMES,numFrameToSave)\n",
    "    #print('NewPosition:', int(stream.get(cv2.CAP_PROP_POS_FRAMES)))\n",
    "    count = count + 1\n",
    "    #show(image)\n",
    "    results = alpr.recognize_ndarray(image)\n",
    "    i = 0\n",
    "    for i, plate in enumerate(results['results']):\n",
    "            print('Plate #{}: {:7s} ({:.2f}%)'.format(i, plate['plate'].upper(), plate['confidence']))\n",
    "            if plate['confidence']>88 and len(plate['plate'])==7:\n",
    "                plate1=plate['plate'].upper()\n",
    "                if (plate1 in plates): \n",
    "                    continue\n",
    "                else:\n",
    "                    plates.append(plate1)\n",
    "                    InsertLiscencePlateDB(plate1,time.strftime(\"%m-%d-%Y %H:%M:%S\") )\n",
    "           # confidence.append(topMost['confidence'])\n",
    "    #print(count)\n",
    "    #if count == 20:\n",
    "        #break\n",
    "    count = count + 1\n",
    "print(plates)\n",
    "#print(unique(plates)) "
   ]
  },
  {
   "cell_type": "code",
   "execution_count": null,
   "metadata": {},
   "outputs": [],
   "source": [
    "VIDEO_SOURCE = \"CarExitK2.MOV\"\n",
    "frameskip=5\n",
    "stream = cv2.VideoCapture(VIDEO_SOURCE)\n",
    "count = 0\n",
    "plates1 =[]\n",
    "confidence ={}\n",
    "while stream.isOpened():\n",
    "    success,image= stream.read()\n",
    "    if not success:\n",
    "        print(\"video done\")\n",
    "        break\n",
    "    if count==0:\n",
    "        numFrameToSave = 30\n",
    "    else:\n",
    "        numFrameToSave = count*30\n",
    "        \n",
    "    #print('Position:', int(stream.get(cv2.CAP_PROP_POS_FRAMES)))\n",
    "    stream.set(cv2.CAP_PROP_POS_FRAMES,numFrameToSave)\n",
    "    #print('NewPosition:', int(stream.get(cv2.CAP_PROP_POS_FRAMES)))\n",
    "    count = count + 1\n",
    "    #show(image)\n",
    "    results = alpr.recognize_ndarray(image)\n",
    "    i = 0\n",
    "    for i, plate in enumerate(results['results']):\n",
    "            print('Plate #{}: {:7s} ({:.2f}%)'.format(i, plate['plate'].upper(), plate['confidence']))\n",
    "            if plate['confidence']>88 and len(plate['plate'])==7:\n",
    "                plate2=plate['plate'].upper()\n",
    "                if (plate2 in plates1): \n",
    "                    continue\n",
    "                else:\n",
    "                    plates1.append(plate2)\n",
    "                    UpdateLiscencePlateExitDB(plate2,time.strftime(\"%m-%d-%Y %H:%M:%S\"))\n",
    "           # confidence.append(topMost['confidence'])\n",
    "    #print(count)\n",
    "    #if count == 20:\n",
    "        #break\n",
    "    count = count + 1\n",
    "print(plates1)\n",
    "#print(unique(plates)) "
   ]
  },
  {
   "cell_type": "code",
   "execution_count": null,
   "metadata": {},
   "outputs": [],
   "source": []
  }
 ],
 "metadata": {
  "kernelspec": {
   "display_name": "Python 3",
   "language": "python",
   "name": "python3"
  },
  "language_info": {
   "codemirror_mode": {
    "name": "ipython",
    "version": 3
   },
   "file_extension": ".py",
   "mimetype": "text/x-python",
   "name": "python",
   "nbconvert_exporter": "python",
   "pygments_lexer": "ipython3",
   "version": "3.7.3"
  }
 },
 "nbformat": 4,
 "nbformat_minor": 2
}
